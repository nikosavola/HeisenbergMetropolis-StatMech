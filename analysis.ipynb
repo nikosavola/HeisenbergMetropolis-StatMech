{
 "cells": [
  {
   "cell_type": "markdown",
   "metadata": {},
   "source": [
    "# Analysis on 2D Heisenberg model"
   ]
  },
  {
   "cell_type": "code",
   "execution_count": 1,
   "metadata": {},
   "outputs": [],
   "source": [
    "import multiprocessing\n",
    "import sys\n",
    "import os\n",
    "from time import time\n",
    "from socket import gethostname\n",
    "\n",
    "import pandas as pd\n",
    "import numpy as np\n",
    "import matplotlib.pyplot as plt\n",
    "from cycler import cycler\n",
    "\n",
    "# set plot customisation\n",
    "plt.rc('font',**{'family':'serif',\n",
    "             'serif': 'cmr10',\n",
    "             'size': 12})\n",
    "plt.rc('mathtext',**{'fontset':'cm'})\n",
    "plt.rc('axes', unicode_minus=False, linewidth=1.2, xmargin=0,\n",
    "           prop_cycle=cycler('color', ['#008fd5',\n",
    "          '#fc4f30', '#e5ae38', '#6d904f', '#8b8b8b', '#810f7c']))\n",
    "\n",
    "from heisenberg_2d import initialize, metropolis, energy, magnetization"
   ]
  },
  {
   "cell_type": "code",
   "execution_count": 2,
   "metadata": {},
   "outputs": [],
   "source": [
    "# Settings\n",
    "snaps = []\n",
    "n_temp = 200\n",
    "\n",
    "N = 10\n",
    "H = 1\n",
    "steps = 500\n",
    "temp = np.linspace(1.5, 3.5, n_temp)"
   ]
  },
  {
   "cell_type": "markdown",
   "metadata": {},
   "source": [
    "## Routine"
   ]
  },
  {
   "cell_type": "code",
   "execution_count": 3,
   "metadata": {},
   "outputs": [],
   "source": [
    "## small sanity check on input parameters\n",
    "if N<2 or steps<1 or temp[0]<0:\n",
    "    print(\"Invalid command line parameters\")\n",
    "\n",
    "## parameters to calculate running average (notice that these are averages per spin)\n",
    "n1 = 1.0/(steps*N*N)\n",
    "n2 = 1.0/(steps*steps*N*N)\n",
    "   \n",
    "def start(T: float):\n",
    "    \"\"\" Run the routine for temperature T and return E, M, C, X\"\"\"\n",
    "# for ii, T in enumerate(temp):\n",
    "    E1=0\n",
    "    M1=0\n",
    "    E2=0\n",
    "    M2=0\n",
    "    grid = initialize(N) ## get the initial configuration\n",
    "    beta = 1.0/T ## k_B = 1  \n",
    "\n",
    "\n",
    "    ## first we equilibrate the system \n",
    "    ## (assumption is that snapshots are wanted here)\n",
    "    for t in range(steps):\n",
    "        if t in snaps:\n",
    "            plot_system(grid, t, T, H)\n",
    "\n",
    "        metropolis(grid, beta, H)\n",
    "\n",
    "    ## then we start to actually collect data, if we aren't just plotting snapshots\n",
    "    if len(snaps)==0:\n",
    "        for t in range(steps):\n",
    "            metropolis(grid, beta, H)\n",
    "            tE = energy(grid, H)\n",
    "            tM = magnetization(grid)\n",
    "\n",
    "            E1 += tE\n",
    "            E2 += tE*tE\n",
    "            M1 += tM\n",
    "            M2 += tM*tM\n",
    "\n",
    "        E = n1*E1\n",
    "        M = n1*M1\n",
    "        C = beta*beta*(n1*E2 - n2*E1*E1)\n",
    "        X = beta*(n1*M2 - n2*M1*M1)\n",
    "        \n",
    "    return E, M, C, X"
   ]
  },
  {
   "cell_type": "code",
   "execution_count": 4,
   "metadata": {},
   "outputs": [
    {
     "name": "stdout",
     "output_type": "stream",
     "text": [
      "Using 32 threads on jupyter-savolan2\n",
      "wall time: 67.39610147476196 s\n"
     ]
    }
   ],
   "source": [
    "# Run the routine in parallel (NB: might not work on windows)\n",
    "print(f'Using {os.cpu_count()} threads on {gethostname()}')\n",
    "t0 = time()\n",
    "\n",
    "with multiprocessing.Pool() as pool:\n",
    "    results = pool.map(start, temp)\n",
    "    E, M, C, X = np.array(results).T\n",
    "    \n",
    "print(f'wall time: {time() - t0} s')"
   ]
  },
  {
   "cell_type": "code",
   "execution_count": 5,
   "metadata": {},
   "outputs": [
    {
     "data": {
      "text/html": [
       "<div>\n",
       "<style scoped>\n",
       "    .dataframe tbody tr th:only-of-type {\n",
       "        vertical-align: middle;\n",
       "    }\n",
       "\n",
       "    .dataframe tbody tr th {\n",
       "        vertical-align: top;\n",
       "    }\n",
       "\n",
       "    .dataframe thead th {\n",
       "        text-align: right;\n",
       "    }\n",
       "</style>\n",
       "<table border=\"1\" class=\"dataframe\">\n",
       "  <thead>\n",
       "    <tr style=\"text-align: right;\">\n",
       "      <th></th>\n",
       "      <th>E</th>\n",
       "      <th>M</th>\n",
       "      <th>C</th>\n",
       "      <th>X</th>\n",
       "    </tr>\n",
       "  </thead>\n",
       "  <tbody>\n",
       "    <tr>\n",
       "      <th>0</th>\n",
       "      <td>-0.992486</td>\n",
       "      <td>1.312039</td>\n",
       "      <td>0.078729</td>\n",
       "      <td>0.100951</td>\n",
       "    </tr>\n",
       "    <tr>\n",
       "      <th>1</th>\n",
       "      <td>-1.006632</td>\n",
       "      <td>1.334147</td>\n",
       "      <td>0.077526</td>\n",
       "      <td>0.100811</td>\n",
       "    </tr>\n",
       "    <tr>\n",
       "      <th>2</th>\n",
       "      <td>-1.000568</td>\n",
       "      <td>1.323419</td>\n",
       "      <td>0.137795</td>\n",
       "      <td>0.158457</td>\n",
       "    </tr>\n",
       "    <tr>\n",
       "      <th>3</th>\n",
       "      <td>-1.067748</td>\n",
       "      <td>1.373223</td>\n",
       "      <td>0.038963</td>\n",
       "      <td>0.059936</td>\n",
       "    </tr>\n",
       "    <tr>\n",
       "      <th>4</th>\n",
       "      <td>-1.035141</td>\n",
       "      <td>1.353058</td>\n",
       "      <td>0.059162</td>\n",
       "      <td>0.134795</td>\n",
       "    </tr>\n",
       "    <tr>\n",
       "      <th>...</th>\n",
       "      <td>...</td>\n",
       "      <td>...</td>\n",
       "      <td>...</td>\n",
       "      <td>...</td>\n",
       "    </tr>\n",
       "    <tr>\n",
       "      <th>195</th>\n",
       "      <td>-0.331193</td>\n",
       "      <td>0.536629</td>\n",
       "      <td>0.040534</td>\n",
       "      <td>0.310734</td>\n",
       "    </tr>\n",
       "    <tr>\n",
       "      <th>196</th>\n",
       "      <td>-0.340394</td>\n",
       "      <td>0.552711</td>\n",
       "      <td>0.048632</td>\n",
       "      <td>0.419950</td>\n",
       "    </tr>\n",
       "    <tr>\n",
       "      <th>197</th>\n",
       "      <td>-0.342936</td>\n",
       "      <td>0.549843</td>\n",
       "      <td>0.059719</td>\n",
       "      <td>0.462526</td>\n",
       "    </tr>\n",
       "    <tr>\n",
       "      <th>198</th>\n",
       "      <td>-0.323351</td>\n",
       "      <td>0.531489</td>\n",
       "      <td>0.044352</td>\n",
       "      <td>0.339428</td>\n",
       "    </tr>\n",
       "    <tr>\n",
       "      <th>199</th>\n",
       "      <td>-0.330054</td>\n",
       "      <td>0.540243</td>\n",
       "      <td>0.056177</td>\n",
       "      <td>0.404943</td>\n",
       "    </tr>\n",
       "  </tbody>\n",
       "</table>\n",
       "<p>200 rows × 4 columns</p>\n",
       "</div>"
      ],
      "text/plain": [
       "            E         M         C         X\n",
       "0   -0.992486  1.312039  0.078729  0.100951\n",
       "1   -1.006632  1.334147  0.077526  0.100811\n",
       "2   -1.000568  1.323419  0.137795  0.158457\n",
       "3   -1.067748  1.373223  0.038963  0.059936\n",
       "4   -1.035141  1.353058  0.059162  0.134795\n",
       "..        ...       ...       ...       ...\n",
       "195 -0.331193  0.536629  0.040534  0.310734\n",
       "196 -0.340394  0.552711  0.048632  0.419950\n",
       "197 -0.342936  0.549843  0.059719  0.462526\n",
       "198 -0.323351  0.531489  0.044352  0.339428\n",
       "199 -0.330054  0.540243  0.056177  0.404943\n",
       "\n",
       "[200 rows x 4 columns]"
      ]
     },
     "metadata": {},
     "output_type": "display_data"
    }
   ],
   "source": [
    "# gather results in a table just in case\n",
    "df = pd.DataFrame(results, columns=['E', 'M', 'C', 'X'])\n",
    "display(df)"
   ]
  },
  {
   "cell_type": "markdown",
   "metadata": {},
   "source": [
    "## Plotting"
   ]
  },
  {
   "cell_type": "code",
   "execution_count": 6,
   "metadata": {},
   "outputs": [
    {
     "data": {
      "image/png": "[encoded data removed]",
      "text/plain": [
       "<Figure size 864x864 with 4 Axes>"
      ]
     },
     "metadata": {
      "needs_background": "light"
     },
     "output_type": "display_data"
    }
   ],
   "source": [
    "## then we plot a figure with energy, magnetization, specific heat and susceptibility\n",
    "if len(snaps)==0:\n",
    "    plt.figure(figsize=(12,12))\n",
    "\n",
    "    plt.subplot(2,2,1)\n",
    "    plt.title('external field H={}'.format(H))\n",
    "    plt.plot(temp, E, 'ro', markeredgecolor='none', markersize=5)\n",
    "    plt.xlabel('Temperature')\n",
    "    plt.ylabel('Energy')\n",
    "\n",
    "    plt.subplot(2,2,2)\n",
    "    plt.plot(temp, M, 'go', markeredgecolor='none', markersize=5)\n",
    "    plt.xlabel('Temperature')\n",
    "    plt.ylabel('Magnetization')\n",
    "\n",
    "    plt.subplot(2,2,3)\n",
    "    plt.plot(temp, C, 'mo', markeredgecolor='none', markersize=5)\n",
    "    plt.xlabel('Temperature')\n",
    "    plt.ylabel('Specific heat')\n",
    "\n",
    "    plt.subplot(2,2,4)\n",
    "    plt.plot(temp, X, 'bo', markeredgecolor='none', markersize=5)\n",
    "    plt.xlabel('Temperature')\n",
    "    plt.ylabel('Susceptibility')\n",
    "\n",
    "\n",
    "    plt.tight_layout()\n",
    "    ## uncomment if you want to save the data\n",
    "    #np.savetxt(\"ising_2d_{}_{}_{}.dat\".format(N,steps,H), np.array([temp, E, M , C,X]).transpose())\n",
    "\n",
    "plt.show()\n"
   ]
  },
  {
   "cell_type": "code",
   "execution_count": null,
   "metadata": {},
   "outputs": [],
   "source": []
  }
 ],
 "metadata": {
  "kernelspec": {
   "display_name": "Python 3",
   "language": "python",
   "name": "python3"
  },
  "language_info": {
   "codemirror_mode": {
    "name": "ipython",
    "version": 3
   },
   "file_extension": ".py",
   "mimetype": "text/x-python",
   "name": "python",
   "nbconvert_exporter": "python",
   "pygments_lexer": "ipython3",
   "version": "3.8.6"
  }
 },
 "nbformat": 4,
 "nbformat_minor": 4
}
