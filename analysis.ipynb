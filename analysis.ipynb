{
 "cells": [
  {
   "cell_type": "markdown",
   "metadata": {},
   "source": [
    "# Analysis on 2D Heisenberg model"
   ]
  },
  {
   "cell_type": "code",
   "execution_count": 1,
   "metadata": {},
   "outputs": [],
   "source": [
    "import multiprocessing\n",
    "\n",
    "import pandas as pd\n",
    "import numpy as np\n",
    "import sys\n",
    "import matplotlib.pyplot as plt\n",
    "import os\n",
    "\n",
    "from heisenberg_2d import initialize, metropolis, energy, magnetization"
   ]
  },
  {
   "cell_type": "code",
   "execution_count": 2,
   "metadata": {},
   "outputs": [],
   "source": [
    "# Settings\n",
    "snaps = []\n",
    "n_temp = 100\n",
    "\n",
    "N = 10\n",
    "H = 1\n",
    "steps = 100\n",
    "temp = np.linspace(1.5,3.5,n_temp)"
   ]
  },
  {
   "cell_type": "markdown",
   "metadata": {},
   "source": [
    "## Routine"
   ]
  },
  {
   "cell_type": "code",
   "execution_count": 3,
   "metadata": {},
   "outputs": [],
   "source": [
    "# %%timeit -n1 -r1\n",
    "\n",
    "## small sanity check on input parameters\n",
    "if N<2 or steps<1 or temp[0]<0:\n",
    "    print(\"Invalid command line parameters\")\n",
    "\n",
    "## parameters to calculate running average (notice that these are averages per spin)\n",
    "n1 = 1.0/(steps*N*N)\n",
    "n2 = 1.0/(steps*steps*N*N)\n",
    "   \n",
    "def start(T: float):\n",
    "    \"\"\" Run the routine for temperature T and return E, M, C, X\"\"\"\n",
    "# for ii, T in enumerate(temp):\n",
    "    E1=0\n",
    "    M1=0\n",
    "    E2=0\n",
    "    M2=0\n",
    "    grid = initialize(N) ## get the initial configuration\n",
    "    beta = 1.0/T ## k_B = 1  \n",
    "\n",
    "\n",
    "    ## first we equilibrate the system \n",
    "    ## (assumption is that snapshots are wanted here)\n",
    "    for t in range(steps):\n",
    "        if t in snaps:\n",
    "            plot_system(grid, t, T, H)\n",
    "\n",
    "        metropolis(grid, beta, H)\n",
    "\n",
    "    ## then we start to actually collect data, if we aren't just plotting snapshots\n",
    "    if len(snaps)==0:\n",
    "        for t in range(steps):\n",
    "            metropolis(grid, beta, H)\n",
    "            tE = energy(grid, H)\n",
    "            tM = magnetization(grid)\n",
    "\n",
    "            E1 += tE\n",
    "            E2 += tE*tE\n",
    "            M1 += tM\n",
    "            M2 += tM*tM\n",
    "\n",
    "        E = n1*E1\n",
    "        M = n1*M1\n",
    "        C = beta*beta*(n1*E2 - n2*E1*E1)\n",
    "        X = beta*(n1*M2 - n2*M1*M1)\n",
    "        \n",
    "    return E, M, C, X"
   ]
  },
  {
   "cell_type": "code",
   "execution_count": 4,
   "metadata": {},
   "outputs": [],
   "source": [
    "# Run the routine in parallel (NB: might not work on windows)\n",
    "with multiprocessing.Pool() as pool:\n",
    "    results = pool.map(start, temp)\n",
    "    E, M, C, X = np.array(results).T"
   ]
  },
  {
   "cell_type": "code",
   "execution_count": 5,
   "metadata": {},
   "outputs": [
    {
     "data": {
      "text/html": [
       "<div>\n",
       "<style scoped>\n",
       "    .dataframe tbody tr th:only-of-type {\n",
       "        vertical-align: middle;\n",
       "    }\n",
       "\n",
       "    .dataframe tbody tr th {\n",
       "        vertical-align: top;\n",
       "    }\n",
       "\n",
       "    .dataframe thead th {\n",
       "        text-align: right;\n",
       "    }\n",
       "</style>\n",
       "<table border=\"1\" class=\"dataframe\">\n",
       "  <thead>\n",
       "    <tr style=\"text-align: right;\">\n",
       "      <th></th>\n",
       "      <th>E</th>\n",
       "      <th>M</th>\n",
       "      <th>C</th>\n",
       "      <th>X</th>\n",
       "    </tr>\n",
       "  </thead>\n",
       "  <tbody>\n",
       "    <tr>\n",
       "      <th>0</th>\n",
       "      <td>-1.247188</td>\n",
       "      <td>0.99875</td>\n",
       "      <td>0.005273</td>\n",
       "      <td>0.001562</td>\n",
       "    </tr>\n",
       "    <tr>\n",
       "      <th>1</th>\n",
       "      <td>-1.247188</td>\n",
       "      <td>0.99875</td>\n",
       "      <td>0.005134</td>\n",
       "      <td>0.001542</td>\n",
       "    </tr>\n",
       "    <tr>\n",
       "      <th>2</th>\n",
       "      <td>-1.247188</td>\n",
       "      <td>0.99875</td>\n",
       "      <td>0.005000</td>\n",
       "      <td>0.001522</td>\n",
       "    </tr>\n",
       "    <tr>\n",
       "      <th>3</th>\n",
       "      <td>-1.247188</td>\n",
       "      <td>0.99875</td>\n",
       "      <td>0.004872</td>\n",
       "      <td>0.001502</td>\n",
       "    </tr>\n",
       "    <tr>\n",
       "      <th>4</th>\n",
       "      <td>-1.247188</td>\n",
       "      <td>0.99875</td>\n",
       "      <td>0.004748</td>\n",
       "      <td>0.001483</td>\n",
       "    </tr>\n",
       "    <tr>\n",
       "      <th>...</th>\n",
       "      <td>...</td>\n",
       "      <td>...</td>\n",
       "      <td>...</td>\n",
       "      <td>...</td>\n",
       "    </tr>\n",
       "    <tr>\n",
       "      <th>95</th>\n",
       "      <td>-0.900000</td>\n",
       "      <td>0.80000</td>\n",
       "      <td>0.073348</td>\n",
       "      <td>0.125761</td>\n",
       "    </tr>\n",
       "    <tr>\n",
       "      <th>96</th>\n",
       "      <td>-0.938438</td>\n",
       "      <td>0.82625</td>\n",
       "      <td>0.077857</td>\n",
       "      <td>0.154415</td>\n",
       "    </tr>\n",
       "    <tr>\n",
       "      <th>97</th>\n",
       "      <td>-0.903438</td>\n",
       "      <td>0.80875</td>\n",
       "      <td>0.080018</td>\n",
       "      <td>0.117021</td>\n",
       "    </tr>\n",
       "    <tr>\n",
       "      <th>98</th>\n",
       "      <td>-0.889062</td>\n",
       "      <td>0.79625</td>\n",
       "      <td>0.087054</td>\n",
       "      <td>0.188544</td>\n",
       "    </tr>\n",
       "    <tr>\n",
       "      <th>99</th>\n",
       "      <td>-0.883125</td>\n",
       "      <td>0.79250</td>\n",
       "      <td>0.144971</td>\n",
       "      <td>0.241250</td>\n",
       "    </tr>\n",
       "  </tbody>\n",
       "</table>\n",
       "<p>100 rows × 4 columns</p>\n",
       "</div>"
      ],
      "text/plain": [
       "           E        M         C         X\n",
       "0  -1.247188  0.99875  0.005273  0.001562\n",
       "1  -1.247188  0.99875  0.005134  0.001542\n",
       "2  -1.247188  0.99875  0.005000  0.001522\n",
       "3  -1.247188  0.99875  0.004872  0.001502\n",
       "4  -1.247188  0.99875  0.004748  0.001483\n",
       "..       ...      ...       ...       ...\n",
       "95 -0.900000  0.80000  0.073348  0.125761\n",
       "96 -0.938438  0.82625  0.077857  0.154415\n",
       "97 -0.903438  0.80875  0.080018  0.117021\n",
       "98 -0.889062  0.79625  0.087054  0.188544\n",
       "99 -0.883125  0.79250  0.144971  0.241250\n",
       "\n",
       "[100 rows x 4 columns]"
      ]
     },
     "metadata": {},
     "output_type": "display_data"
    }
   ],
   "source": [
    "# gather results in a table just in case\n",
    "df = pd.DataFrame(results, columns=['E', 'M', 'C', 'X'])\n",
    "display(df)"
   ]
  },
  {
   "cell_type": "markdown",
   "metadata": {},
   "source": [
    "## Plotting"
   ]
  },
  {
   "cell_type": "code",
   "execution_count": 6,
   "metadata": {},
   "outputs": [
    {
     "data": {
      "image/png": "[encoded data removed]",
      "text/plain": [
       "<Figure size 864x864 with 4 Axes>"
      ]
     },
     "metadata": {
      "needs_background": "light"
     },
     "output_type": "display_data"
    }
   ],
   "source": [
    "## then we plot a figure with energy, magnetization, specific heat and susceptibility\n",
    "if len(snaps)==0:\n",
    "    plt.figure(figsize=(12,12))\n",
    "\n",
    "    plt.subplot(2,2,1)\n",
    "    plt.title('external field H={}'.format(H))\n",
    "    plt.plot(temp, E, 'ro', markeredgecolor='none', markersize=5)\n",
    "    plt.xlabel('Temperature')\n",
    "    plt.ylabel('Energy')\n",
    "\n",
    "    plt.subplot(2,2,2)\n",
    "    plt.plot(temp, M, 'go', markeredgecolor='none', markersize=5)\n",
    "    plt.xlabel('Temperature')\n",
    "    plt.ylabel('Magnetization')\n",
    "\n",
    "    plt.subplot(2,2,3)\n",
    "    plt.plot(temp, C, 'mo', markeredgecolor='none', markersize=5)\n",
    "    plt.xlabel('Temperature')\n",
    "    plt.ylabel('Specific heat')\n",
    "\n",
    "    plt.subplot(2,2,4)\n",
    "    plt.plot(temp, X, 'bo', markeredgecolor='none', markersize=5)\n",
    "    plt.xlabel('Temperature')\n",
    "    plt.ylabel('Susceptibility')\n",
    "\n",
    "\n",
    "    plt.tight_layout()\n",
    "    ## uncomment if you want to save the data\n",
    "    #np.savetxt(\"ising_2d_{}_{}_{}.dat\".format(N,steps,H), np.array([temp, E, M , C,X]).transpose())\n",
    "\n",
    "plt.show()\n"
   ]
  }
 ],
 "metadata": {
  "kernelspec": {
   "display_name": "Python 3",
   "language": "python",
   "name": "python3"
  },
  "language_info": {
   "codemirror_mode": {
    "name": "ipython",
    "version": 3
   },
   "file_extension": ".py",
   "mimetype": "text/x-python",
   "name": "python",
   "nbconvert_exporter": "python",
   "pygments_lexer": "ipython3",
   "version": "3.8.6"
  }
 },
 "nbformat": 4,
 "nbformat_minor": 4
}
